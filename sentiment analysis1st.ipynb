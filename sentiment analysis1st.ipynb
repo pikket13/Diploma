{
 "cells": [
  {
   "cell_type": "code",
   "execution_count": 1,
   "id": "6a79eeee",
   "metadata": {},
   "outputs": [
    {
     "name": "stdout",
     "output_type": "stream",
     "text": [
      "Collecting nltk\n",
      "  Downloading nltk-3.7-py3-none-any.whl (1.5 MB)\n",
      "\u001b[2K     \u001b[90m━━━━━━━━━━━━━━━━━━━━━━━━━━━━━━━━━━━━━━━━\u001b[0m \u001b[32m1.5/1.5 MB\u001b[0m \u001b[31m2.8 MB/s\u001b[0m eta \u001b[36m0:00:00\u001b[0ma \u001b[36m0:00:01\u001b[0m\n",
      "\u001b[?25hCollecting joblib\n",
      "  Downloading joblib-1.1.0-py2.py3-none-any.whl (306 kB)\n",
      "\u001b[2K     \u001b[90m━━━━━━━━━━━━━━━━━━━━━━━━━━━━━━━━━━━━━━━\u001b[0m \u001b[32m307.0/307.0 KB\u001b[0m \u001b[31m2.3 MB/s\u001b[0m eta \u001b[36m0:00:00\u001b[0ma \u001b[36m0:00:01\u001b[0m\n",
      "\u001b[?25hCollecting regex>=2021.8.3\n",
      "  Downloading regex-2022.3.15-cp310-cp310-macosx_10_9_x86_64.whl (288 kB)\n",
      "\u001b[2K     \u001b[90m━━━━━━━━━━━━━━━━━━━━━━━━━━━━━━━━━━━━━━━\u001b[0m \u001b[32m288.9/288.9 KB\u001b[0m \u001b[31m2.4 MB/s\u001b[0m eta \u001b[36m0:00:00\u001b[0m00:01\u001b[0m00:01\u001b[0m\n",
      "\u001b[?25hCollecting click\n",
      "  Downloading click-8.1.0-py3-none-any.whl (96 kB)\n",
      "\u001b[2K     \u001b[90m━━━━━━━━━━━━━━━━━━━━━━━━━━━━━━━━━━━━━━━━\u001b[0m \u001b[32m96.4/96.4 KB\u001b[0m \u001b[31m1.5 MB/s\u001b[0m eta \u001b[36m0:00:00\u001b[0ma \u001b[36m0:00:01\u001b[0m\n",
      "\u001b[?25hCollecting tqdm\n",
      "  Downloading tqdm-4.63.1-py2.py3-none-any.whl (76 kB)\n",
      "\u001b[2K     \u001b[90m━━━━━━━━━━━━━━━━━━━━━━━━━━━━━━━━━━━━━━━━\u001b[0m \u001b[32m76.6/76.6 KB\u001b[0m \u001b[31m1.5 MB/s\u001b[0m eta \u001b[36m0:00:00\u001b[0ma \u001b[36m0:00:01\u001b[0m\n",
      "\u001b[?25hInstalling collected packages: tqdm, regex, joblib, click, nltk\n",
      "Successfully installed click-8.1.0 joblib-1.1.0 nltk-3.7 regex-2022.3.15 tqdm-4.63.1\n",
      "\u001b[33mWARNING: You are using pip version 22.0.2; however, version 22.0.4 is available.\n",
      "You should consider upgrading via the '/usr/local/Cellar/ipython/8.2.0/libexec/bin/python3.10 -m pip install --upgrade pip' command.\u001b[0m\u001b[33m\n",
      "\u001b[0mNote: you may need to restart the kernel to use updated packages.\n"
     ]
    }
   ],
   "source": [
    "pip install nltk"
   ]
  },
  {
   "cell_type": "code",
   "execution_count": 13,
   "id": "0d4f98bf",
   "metadata": {},
   "outputs": [
    {
     "name": "stdout",
     "output_type": "stream",
     "text": [
      "Collecting matplotlib\n",
      "  Downloading matplotlib-3.5.1-cp310-cp310-macosx_10_9_x86_64.whl (7.3 MB)\n",
      "\u001b[2K     \u001b[90m━━━━━━━━━━━━━━━━━━━━━━━━━━━━━━━━━━━━━━━━\u001b[0m \u001b[32m7.3/7.3 MB\u001b[0m \u001b[31m2.9 MB/s\u001b[0m eta \u001b[36m0:00:00\u001b[0m00:01\u001b[0m00:01\u001b[0m\n",
      "\u001b[?25hRequirement already satisfied: numpy>=1.17 in /usr/local/Cellar/ipython/8.2.0/libexec/lib/python3.10/site-packages (from matplotlib) (1.22.3)\n",
      "Collecting pillow>=6.2.0\n",
      "  Downloading Pillow-9.0.1-cp310-cp310-macosx_10_10_universal2.whl (3.3 MB)\n",
      "\u001b[2K     \u001b[90m━━━━━━━━━━━━━━━━━━━━━━━━━━━━━━━━━━━━━━━━\u001b[0m \u001b[32m3.3/3.3 MB\u001b[0m \u001b[31m2.9 MB/s\u001b[0m eta \u001b[36m0:00:00\u001b[0m00:01\u001b[0m00:01\u001b[0m\n",
      "\u001b[?25hCollecting kiwisolver>=1.0.1\n",
      "  Downloading kiwisolver-1.4.2-cp310-cp310-macosx_10_9_x86_64.whl (65 kB)\n",
      "\u001b[2K     \u001b[90m━━━━━━━━━━━━━━━━━━━━━━━━━━━━━━━━━━━━━━━━\u001b[0m \u001b[32m65.3/65.3 KB\u001b[0m \u001b[31m1.2 MB/s\u001b[0m eta \u001b[36m0:00:00\u001b[0mta \u001b[36m0:00:01\u001b[0m\n",
      "\u001b[?25hCollecting pyparsing>=2.2.1\n",
      "  Downloading pyparsing-3.0.7-py3-none-any.whl (98 kB)\n",
      "\u001b[2K     \u001b[90m━━━━━━━━━━━━━━━━━━━━━━━━━━━━━━━━━━━━━━━━\u001b[0m \u001b[32m98.0/98.0 KB\u001b[0m \u001b[31m1.4 MB/s\u001b[0m eta \u001b[36m0:00:00\u001b[0ma \u001b[36m0:00:01\u001b[0m\n",
      "\u001b[?25hCollecting cycler>=0.10\n",
      "  Downloading cycler-0.11.0-py3-none-any.whl (6.4 kB)\n",
      "Requirement already satisfied: python-dateutil>=2.7 in /usr/local/Cellar/ipython/8.2.0/libexec/lib/python3.10/site-packages (from matplotlib) (2.8.2)\n",
      "Collecting packaging>=20.0\n",
      "  Downloading packaging-21.3-py3-none-any.whl (40 kB)\n",
      "\u001b[2K     \u001b[90m━━━━━━━━━━━━━━━━━━━━━━━━━━━━━━━━━━━━━━━\u001b[0m \u001b[32m40.8/40.8 KB\u001b[0m \u001b[31m906.7 kB/s\u001b[0m eta \u001b[36m0:00:00\u001b[0m\n",
      "\u001b[?25hCollecting fonttools>=4.22.0\n",
      "  Downloading fonttools-4.31.2-py3-none-any.whl (899 kB)\n",
      "\u001b[2K     \u001b[90m━━━━━━━━━━━━━━━━━━━━━━━━━━━━━━━━━━━━━━━\u001b[0m \u001b[32m899.5/899.5 KB\u001b[0m \u001b[31m2.7 MB/s\u001b[0m eta \u001b[36m0:00:00\u001b[0m00:01\u001b[0m00:01\u001b[0m\n",
      "\u001b[?25hRequirement already satisfied: six>=1.5 in /usr/local/Cellar/six/1.16.0_2/lib/python3.10/site-packages (from python-dateutil>=2.7->matplotlib) (1.16.0)\n",
      "Installing collected packages: pyparsing, pillow, kiwisolver, fonttools, cycler, packaging, matplotlib\n",
      "Successfully installed cycler-0.11.0 fonttools-4.31.2 kiwisolver-1.4.2 matplotlib-3.5.1 packaging-21.3 pillow-9.0.1 pyparsing-3.0.7\n",
      "\u001b[33mWARNING: You are using pip version 22.0.2; however, version 22.0.4 is available.\n",
      "You should consider upgrading via the '/usr/local/Cellar/ipython/8.2.0/libexec/bin/python3.10 -m pip install --upgrade pip' command.\u001b[0m\u001b[33m\n",
      "\u001b[0mNote: you may need to restart the kernel to use updated packages.\n"
     ]
    }
   ],
   "source": [
    "pip install matplotlib"
   ]
  },
  {
   "cell_type": "code",
   "execution_count": 203,
   "id": "3c78472e",
   "metadata": {},
   "outputs": [
    {
     "name": "stdout",
     "output_type": "stream",
     "text": [
      "Collecting nbconvert\n",
      "  Downloading nbconvert-6.4.5-py3-none-any.whl (561 kB)\n",
      "\u001b[2K     \u001b[90m━━━━━━━━━━━━━━━━━━━━━━━━━━━━━━━━━━━━━━━\u001b[0m \u001b[32m561.4/561.4 KB\u001b[0m \u001b[31m2.3 MB/s\u001b[0m eta \u001b[36m0:00:00\u001b[0m00:01\u001b[0m00:01\u001b[0m\n",
      "\u001b[?25hCollecting defusedxml\n",
      "  Using cached defusedxml-0.7.1-py2.py3-none-any.whl (25 kB)\n",
      "Collecting bleach\n",
      "  Downloading bleach-4.1.0-py2.py3-none-any.whl (157 kB)\n",
      "\u001b[2K     \u001b[90m━━━━━━━━━━━━━━━━━━━━━━━━━━━━━━━━━━━━━━━\u001b[0m \u001b[32m157.9/157.9 KB\u001b[0m \u001b[31m1.9 MB/s\u001b[0m eta \u001b[36m0:00:00\u001b[0ma \u001b[36m0:00:01\u001b[0m\n",
      "\u001b[?25hRequirement already satisfied: traitlets>=5.0 in /usr/local/Cellar/ipython/8.2.0/libexec/lib/python3.10/site-packages (from nbconvert) (5.1.1)\n",
      "Collecting pandocfilters>=1.4.1\n",
      "  Downloading pandocfilters-1.5.0-py2.py3-none-any.whl (8.7 kB)\n",
      "Requirement already satisfied: pygments>=2.4.1 in /usr/local/Cellar/ipython/8.2.0/libexec/lib/python3.10/site-packages (from nbconvert) (2.11.2)\n",
      "Collecting beautifulsoup4\n",
      "  Downloading beautifulsoup4-4.10.0-py3-none-any.whl (97 kB)\n",
      "\u001b[2K     \u001b[90m━━━━━━━━━━━━━━━━━━━━━━━━━━━━━━━━━━━━━━━━\u001b[0m \u001b[32m97.4/97.4 KB\u001b[0m \u001b[31m1.6 MB/s\u001b[0m eta \u001b[36m0:00:00\u001b[0ma \u001b[36m0:00:01\u001b[0m\n",
      "\u001b[?25hCollecting jinja2>=2.4\n",
      "  Downloading Jinja2-3.1.1-py3-none-any.whl (132 kB)\n",
      "\u001b[2K     \u001b[90m━━━━━━━━━━━━━━━━━━━━━━━━━━━━━━━━━━━━━━━\u001b[0m \u001b[32m132.6/132.6 KB\u001b[0m \u001b[31m1.8 MB/s\u001b[0m eta \u001b[36m0:00:00\u001b[0ma \u001b[36m0:00:01\u001b[0m\n",
      "\u001b[?25hCollecting jupyterlab-pygments\n",
      "  Using cached jupyterlab_pygments-0.1.2-py2.py3-none-any.whl (4.6 kB)\n",
      "Collecting nbformat>=4.4\n",
      "  Downloading nbformat-5.2.0-py3-none-any.whl (74 kB)\n",
      "\u001b[2K     \u001b[90m━━━━━━━━━━━━━━━━━━━━━━━━━━━━━━━━━━━━━━━━\u001b[0m \u001b[32m74.6/74.6 KB\u001b[0m \u001b[31m1.4 MB/s\u001b[0m eta \u001b[36m0:00:00\u001b[0ma \u001b[36m0:00:01\u001b[0m\n",
      "\u001b[?25hCollecting MarkupSafe>=2.0\n",
      "  Downloading MarkupSafe-2.1.1-cp310-cp310-macosx_10_9_x86_64.whl (13 kB)\n",
      "Collecting nbclient<0.6.0,>=0.5.0\n",
      "  Downloading nbclient-0.5.13-py3-none-any.whl (70 kB)\n",
      "\u001b[2K     \u001b[90m━━━━━━━━━━━━━━━━━━━━━━━━━━━━━━━━━━━━━━━━\u001b[0m \u001b[32m70.6/70.6 KB\u001b[0m \u001b[31m1.4 MB/s\u001b[0m eta \u001b[36m0:00:00\u001b[0ma \u001b[36m0:00:01\u001b[0m\n",
      "\u001b[?25hRequirement already satisfied: jupyter-core in /usr/local/Cellar/ipython/8.2.0/libexec/lib/python3.10/site-packages (from nbconvert) (4.9.2)\n",
      "Collecting mistune<2,>=0.8.1\n",
      "  Using cached mistune-0.8.4-py2.py3-none-any.whl (16 kB)\n",
      "Collecting testpath\n",
      "  Downloading testpath-0.6.0-py3-none-any.whl (83 kB)\n",
      "\u001b[2K     \u001b[90m━━━━━━━━━━━━━━━━━━━━━━━━━━━━━━━━━━━━━━━━\u001b[0m \u001b[32m83.9/83.9 KB\u001b[0m \u001b[31m1.5 MB/s\u001b[0m eta \u001b[36m0:00:00\u001b[0m00:01\u001b[0m\n",
      "\u001b[?25hRequirement already satisfied: entrypoints>=0.2.2 in /usr/local/Cellar/ipython/8.2.0/libexec/lib/python3.10/site-packages (from nbconvert) (0.4)\n",
      "Requirement already satisfied: jupyter-client>=6.1.5 in /usr/local/Cellar/ipython/8.2.0/libexec/lib/python3.10/site-packages (from nbclient<0.6.0,>=0.5.0->nbconvert) (7.1.2)\n",
      "Requirement already satisfied: nest-asyncio in /usr/local/Cellar/ipython/8.2.0/libexec/lib/python3.10/site-packages (from nbclient<0.6.0,>=0.5.0->nbconvert) (1.5.4)\n",
      "Collecting jsonschema!=2.5.0,>=2.4\n",
      "  Downloading jsonschema-4.4.0-py3-none-any.whl (72 kB)\n",
      "\u001b[2K     \u001b[90m━━━━━━━━━━━━━━━━━━━━━━━━━━━━━━━━━━━━━━━━\u001b[0m \u001b[32m72.7/72.7 KB\u001b[0m \u001b[31m1.4 MB/s\u001b[0m eta \u001b[36m0:00:00\u001b[0m00:01\u001b[0m\n",
      "\u001b[?25hCollecting soupsieve>1.2\n",
      "  Downloading soupsieve-2.3.1-py3-none-any.whl (37 kB)\n",
      "Requirement already satisfied: six>=1.9.0 in /usr/local/Cellar/six/1.16.0_2/lib/python3.10/site-packages (from bleach->nbconvert) (1.16.0)\n",
      "Collecting webencodings\n",
      "  Using cached webencodings-0.5.1-py2.py3-none-any.whl (11 kB)\n",
      "Requirement already satisfied: packaging in /usr/local/Cellar/ipython/8.2.0/libexec/lib/python3.10/site-packages (from bleach->nbconvert) (21.3)\n",
      "Collecting attrs>=17.4.0\n",
      "  Downloading attrs-21.4.0-py2.py3-none-any.whl (60 kB)\n",
      "\u001b[2K     \u001b[90m━━━━━━━━━━━━━━━━━━━━━━━━━━━━━━━━━━━━━━━━\u001b[0m \u001b[32m60.6/60.6 KB\u001b[0m \u001b[31m1.2 MB/s\u001b[0m eta \u001b[36m0:00:00\u001b[0ma \u001b[36m0:00:01\u001b[0m\n",
      "\u001b[?25hCollecting pyrsistent!=0.17.0,!=0.17.1,!=0.17.2,>=0.14.0\n",
      "  Downloading pyrsistent-0.18.1-cp310-cp310-macosx_10_9_universal2.whl (81 kB)\n",
      "\u001b[2K     \u001b[90m━━━━━━━━━━━━━━━━━━━━━━━━━━━━━━━━━━━━━━━━\u001b[0m \u001b[32m81.4/81.4 KB\u001b[0m \u001b[31m1.4 MB/s\u001b[0m eta \u001b[36m0:00:00\u001b[0ma \u001b[36m0:00:01\u001b[0m\n",
      "\u001b[?25hRequirement already satisfied: pyzmq>=13 in /usr/local/Cellar/ipython/8.2.0/libexec/lib/python3.10/site-packages (from jupyter-client>=6.1.5->nbclient<0.6.0,>=0.5.0->nbconvert) (22.3.0)\n",
      "Requirement already satisfied: tornado>=4.1 in /usr/local/Cellar/ipython/8.2.0/libexec/lib/python3.10/site-packages (from jupyter-client>=6.1.5->nbclient<0.6.0,>=0.5.0->nbconvert) (6.1)\n",
      "Requirement already satisfied: python-dateutil>=2.1 in /usr/local/Cellar/ipython/8.2.0/libexec/lib/python3.10/site-packages (from jupyter-client>=6.1.5->nbclient<0.6.0,>=0.5.0->nbconvert) (2.8.2)\n",
      "Requirement already satisfied: pyparsing!=3.0.5,>=2.0.2 in /usr/local/Cellar/ipython/8.2.0/libexec/lib/python3.10/site-packages (from packaging->bleach->nbconvert) (3.0.7)\n",
      "Installing collected packages: webencodings, mistune, testpath, soupsieve, pyrsistent, pandocfilters, MarkupSafe, jupyterlab-pygments, defusedxml, attrs, jsonschema, jinja2, bleach, beautifulsoup4, nbformat, nbclient, nbconvert\n",
      "Successfully installed MarkupSafe-2.1.1 attrs-21.4.0 beautifulsoup4-4.10.0 bleach-4.1.0 defusedxml-0.7.1 jinja2-3.1.1 jsonschema-4.4.0 jupyterlab-pygments-0.1.2 mistune-0.8.4 nbclient-0.5.13 nbconvert-6.4.5 nbformat-5.2.0 pandocfilters-1.5.0 pyrsistent-0.18.1 soupsieve-2.3.1 testpath-0.6.0 webencodings-0.5.1\n",
      "\u001b[33mWARNING: You are using pip version 22.0.2; however, version 22.0.4 is available.\n",
      "You should consider upgrading via the '/usr/local/Cellar/ipython/8.2.0/libexec/bin/python3.10 -m pip install --upgrade pip' command.\u001b[0m\u001b[33m\n",
      "\u001b[0mNote: you may need to restart the kernel to use updated packages.\n"
     ]
    }
   ],
   "source": [
    "pip install nbconvert"
   ]
  },
  {
   "cell_type": "code",
   "execution_count": 2,
   "id": "4abdbb0c",
   "metadata": {},
   "outputs": [
    {
     "name": "stdout",
     "output_type": "stream",
     "text": [
      "Collecting numpy\n",
      "  Downloading numpy-1.22.3-cp310-cp310-macosx_10_14_x86_64.whl (17.6 MB)\n",
      "\u001b[2K     \u001b[90m━━━━━━━━━━━━━━━━━━━━━━━━━━━━━━━━━━━━━━━━\u001b[0m \u001b[32m17.6/17.6 MB\u001b[0m \u001b[31m2.7 MB/s\u001b[0m eta \u001b[36m0:00:00\u001b[0m00:01\u001b[0m00:01\u001b[0m\n",
      "\u001b[?25hInstalling collected packages: numpy\n",
      "Successfully installed numpy-1.22.3\n",
      "\u001b[33mWARNING: You are using pip version 22.0.2; however, version 22.0.4 is available.\n",
      "You should consider upgrading via the '/usr/local/Cellar/ipython/8.2.0/libexec/bin/python3.10 -m pip install --upgrade pip' command.\u001b[0m\u001b[33m\n",
      "\u001b[0mNote: you may need to restart the kernel to use updated packages.\n"
     ]
    }
   ],
   "source": [
    "pip install numpy"
   ]
  },
  {
   "cell_type": "code",
   "execution_count": 3,
   "id": "ffaecfd7",
   "metadata": {},
   "outputs": [
    {
     "name": "stdout",
     "output_type": "stream",
     "text": [
      "Collecting pandas\n",
      "  Downloading pandas-1.4.1-cp310-cp310-macosx_10_9_x86_64.whl (11.5 MB)\n",
      "\u001b[2K     \u001b[90m━━━━━━━━━━━━━━━━━━━━━━━━━━━━━━━━━━━━━━━━\u001b[0m \u001b[32m11.5/11.5 MB\u001b[0m \u001b[31m2.9 MB/s\u001b[0m eta \u001b[36m0:00:00\u001b[0m00:01\u001b[0m00:01\u001b[0m\n",
      "\u001b[?25hRequirement already satisfied: python-dateutil>=2.8.1 in /usr/local/Cellar/ipython/8.2.0/libexec/lib/python3.10/site-packages (from pandas) (2.8.2)\n",
      "Requirement already satisfied: numpy>=1.21.0 in /usr/local/Cellar/ipython/8.2.0/libexec/lib/python3.10/site-packages (from pandas) (1.22.3)\n",
      "Collecting pytz>=2020.1\n",
      "  Downloading pytz-2022.1-py2.py3-none-any.whl (503 kB)\n",
      "\u001b[2K     \u001b[90m━━━━━━━━━━━━━━━━━━━━━━━━━━━━━━━━━━━━━━━\u001b[0m \u001b[32m503.5/503.5 KB\u001b[0m \u001b[31m2.6 MB/s\u001b[0m eta \u001b[36m0:00:00\u001b[0m00:01\u001b[0m00:01\u001b[0m\n",
      "\u001b[?25hRequirement already satisfied: six>=1.5 in /usr/local/Cellar/six/1.16.0_2/lib/python3.10/site-packages (from python-dateutil>=2.8.1->pandas) (1.16.0)\n",
      "Installing collected packages: pytz, pandas\n",
      "Successfully installed pandas-1.4.1 pytz-2022.1\n",
      "\u001b[33mWARNING: You are using pip version 22.0.2; however, version 22.0.4 is available.\n",
      "You should consider upgrading via the '/usr/local/Cellar/ipython/8.2.0/libexec/bin/python3.10 -m pip install --upgrade pip' command.\u001b[0m\u001b[33m\n",
      "\u001b[0mNote: you may need to restart the kernel to use updated packages.\n"
     ]
    }
   ],
   "source": [
    "pip install pandas"
   ]
  },
  {
   "cell_type": "code",
   "execution_count": 4,
   "id": "d7f68027",
   "metadata": {},
   "outputs": [
    {
     "name": "stdout",
     "output_type": "stream",
     "text": [
      "Collecting scikit-learn\n",
      "  Downloading scikit_learn-1.0.2-cp310-cp310-macosx_10_13_x86_64.whl (8.0 MB)\n",
      "\u001b[2K     \u001b[90m━━━━━━━━━━━━━━━━━━━━━━━━━━━━━━━━━━━━━━━━\u001b[0m \u001b[32m8.0/8.0 MB\u001b[0m \u001b[31m2.9 MB/s\u001b[0m eta \u001b[36m0:00:00\u001b[0m00:01\u001b[0m00:01\u001b[0m\n",
      "\u001b[?25hCollecting scipy>=1.1.0\n",
      "  Downloading scipy-1.8.0-cp310-cp310-macosx_12_0_universal2.macosx_10_9_x86_64.whl (55.6 MB)\n",
      "\u001b[2K     \u001b[90m━━━━━━━━━━━━━━━━━━━━━━━━━━━━━━━━━━━━━━━━\u001b[0m \u001b[32m55.6/55.6 MB\u001b[0m \u001b[31m2.8 MB/s\u001b[0m eta \u001b[36m0:00:00\u001b[0m00:01\u001b[0m00:01\u001b[0m\n",
      "\u001b[?25hRequirement already satisfied: joblib>=0.11 in /usr/local/Cellar/ipython/8.2.0/libexec/lib/python3.10/site-packages (from scikit-learn) (1.1.0)\n",
      "Collecting threadpoolctl>=2.0.0\n",
      "  Downloading threadpoolctl-3.1.0-py3-none-any.whl (14 kB)\n",
      "Requirement already satisfied: numpy>=1.14.6 in /usr/local/Cellar/ipython/8.2.0/libexec/lib/python3.10/site-packages (from scikit-learn) (1.22.3)\n",
      "Installing collected packages: threadpoolctl, scipy, scikit-learn\n",
      "Successfully installed scikit-learn-1.0.2 scipy-1.8.0 threadpoolctl-3.1.0\n",
      "\u001b[33mWARNING: You are using pip version 22.0.2; however, version 22.0.4 is available.\n",
      "You should consider upgrading via the '/usr/local/Cellar/ipython/8.2.0/libexec/bin/python3.10 -m pip install --upgrade pip' command.\u001b[0m\u001b[33m\n",
      "\u001b[0mNote: you may need to restart the kernel to use updated packages.\n"
     ]
    }
   ],
   "source": [
    "pip install scikit-learn"
   ]
  },
  {
   "cell_type": "code",
   "execution_count": 1,
   "id": "ba45548c",
   "metadata": {},
   "outputs": [],
   "source": [
    "import pandas as pd"
   ]
  },
  {
   "cell_type": "code",
   "execution_count": 2,
   "id": "ac2663b8",
   "metadata": {},
   "outputs": [],
   "source": [
    "import numpy as np"
   ]
  },
  {
   "cell_type": "code",
   "execution_count": 3,
   "id": "62acc6d6",
   "metadata": {},
   "outputs": [
    {
     "name": "stderr",
     "output_type": "stream",
     "text": [
      "[nltk_data] Downloading package vader_lexicon to\n",
      "[nltk_data]     /Users/katarinapikec/nltk_data...\n",
      "[nltk_data]   Package vader_lexicon is already up-to-date!\n"
     ]
    },
    {
     "data": {
      "text/plain": [
       "True"
      ]
     },
     "execution_count": 3,
     "metadata": {},
     "output_type": "execute_result"
    }
   ],
   "source": [
    "import nltk\n",
    "nltk.download('vader_lexicon')"
   ]
  },
  {
   "cell_type": "code",
   "execution_count": 4,
   "id": "3b15112a",
   "metadata": {},
   "outputs": [],
   "source": [
    "from nltk.sentiment.vader import SentimentIntensityAnalyzer\n",
    "from matplotlib import pyplot as plt"
   ]
  },
  {
   "cell_type": "code",
   "execution_count": 5,
   "id": "b4054b2f",
   "metadata": {},
   "outputs": [],
   "source": [
    "vader = SentimentIntensityAnalyzer()"
   ]
  },
  {
   "cell_type": "code",
   "execution_count": 6,
   "id": "961ebe05",
   "metadata": {},
   "outputs": [],
   "source": [
    "plt.rcdefaults()"
   ]
  },
  {
   "cell_type": "code",
   "execution_count": 11,
   "id": "7eb3757e",
   "metadata": {},
   "outputs": [
    {
     "data": {
      "image/png": "[encoded data removed]",
      "text/plain": [
       "<Figure size 600x600 with 1 Axes>"
      ]
     },
     "metadata": {},
     "output_type": "display_data"
    }
   ],
   "source": [
    "labels = ['negative', 'neutral', 'positive']\n",
    "s1 = 'I DIDIN\\'T LIKE experience because of the map it was NOT logical to me where to start and I did not see days.'\n",
    "s2 = 'The web site was really cool because you can choose a lot of stuff on your own. The map was NOT GOOD! because there are not a lot of things written on it and then you don\\’t know what to do. Overall I like it.'\n",
    "s3 = 'I DIDIN\\'T LIKE all parts of the experience! I DIDN\\'T get all the information I WANTED! Things ARE NOT CLEAR!!. I LIKE the map and the routes. I wanted more information about the weather when I am planning my trip'\n",
    "s4 = 'Very good, very nice because it is user friendly and very minimalistic. One thing that bother me is the name of the buttons where I struggled a bit about where it will take me.'\n",
    "s5 = 'It is missing what we are used to, NO logical buttons. Idea is good! If something is clickable it should move. NOT GOOD information just from the button. I wanted pop-up on the map and I DID NOT GET IT.'\n",
    "\n",
    "ss1 = vader.polarity_scores(s1)\n",
    "ss2 = vader.polarity_scores(s2)\n",
    "ss3 = vader.polarity_scores(s3)\n",
    "ss4 = vader.polarity_scores(s4)\n",
    "ss5  = vader.polarity_scores(s5)\n",
    "\n",
    "#slovar za vsakega udeleženca\n",
    "data_dict = {\"Besedila\": [\"Besedilo1\", \"Besedilo2\", \"Besedilo3\", \"Besedilo4\",  \"Besedilo5\"],\n",
    "            'negativno': [ss1['neg'],ss2['neg'],ss3['neg'],ss4['neg'],ss5['neg']],\n",
    "            'nevtralno': [ss1['neu'],ss2['neu'],ss3['neu'],ss4['neu'],ss5['neu']],\n",
    "            'pozitivno': [ss1['pos'],ss2['pos'],ss3['pos'],ss4['pos'],ss5['pos']]}#convert that into a dataframe\n",
    "data_df = pd.DataFrame(data_dict)#show the dictionary\n",
    "data_df\n",
    "\n",
    "#slika\n",
    "fig, ax = plt.subplots(figsize = (6,6))\n",
    "#oznake in pozicija x\n",
    "label = data_df[\"Besedila\"]\n",
    "x = np.arange(len(label))\n",
    "#širina stolpcev\n",
    "width = 0.31\n",
    "#prvi bar -1 širina\n",
    "rect1 = ax.bar(x - width,\n",
    "              data_df['negativno'],\n",
    "              width = width, \n",
    "                label = 'negativno',\n",
    "              color='darkblue')\n",
    "rect2 = ax.bar(x,\n",
    "              data_df['nevtralno'],\n",
    "              width = width,\n",
    "              label = 'nevtralno',\n",
    "              color = 'lightblue')\n",
    "#zadnji bar +1 širina\n",
    "rects2 = ax.bar(x + width,\n",
    "               data_df['pozitivno'],\n",
    "               width = width,\n",
    "               label = 'pozitivno',\n",
    "               color = 'blue')\n",
    "#oznake osi\n",
    "ax.set_ylabel(\"Točkovanje treh polarnosti v besedilu\")\n",
    "ax.set_xlabel(\"Udeleženci\")\n",
    "ax.set_title(\"Sentiment zaznan na posameznem besedilu\", fontsize=12.5)\n",
    "#uporaba oznak\n",
    "ax.set_xticks(x)\n",
    "ax.set_xticklabels(label)\n",
    "#legenda\n",
    "ax.legend(title = \"Polarnosti sentimenta\",\n",
    "         bbox_to_anchor = (1,1))\n",
    "ax.tick_params(axis = \"x\",\n",
    "              which = \"both\",\n",
    "              labelrotation = 90)\n",
    "ax.tick_params(axis = \"y\",\n",
    "              which = \"both\")\n",
    "#shrani sliko\n",
    "fig.savefig('polarity1.png', dpi=300, bbox_inches='tight')"
   ]
  },
  {
   "cell_type": "code",
   "execution_count": 12,
   "id": "80c89369",
   "metadata": {},
   "outputs": [
    {
     "name": "stdout",
     "output_type": "stream",
     "text": [
      "{'neg': 0.117, 'neu': 0.883, 'pos': 0.0, 'compound': -0.3924} {'neg': 0.062, 'neu': 0.824, 'pos': 0.114, 'compound': 0.3478} {'neg': 0.168, 'neu': 0.832, 'pos': 0.0, 'compound': -0.756} {'neg': 0.116, 'neu': 0.65, 'pos': 0.235, 'compound': 0.714} {'neg': 0.185, 'neu': 0.751, 'pos': 0.064, 'compound': -0.6677}\n"
     ]
    },
    {
     "data": {
      "image/png": "[encoded data removed]",
      "text/plain": [
       "<Figure size 600x600 with 1 Axes>"
      ]
     },
     "metadata": {},
     "output_type": "display_data"
    }
   ],
   "source": [
    "#def maksimalno(besedilo_tocke):\n",
    "#    neg = besedilo_tocke['neg']\n",
    "#    nev = besedilo_tocke['neu']\n",
    "#    poz = besedilo_tocke['pos']\n",
    "    \n",
    "#    maks = neg\n",
    "    \n",
    "#    if nev > maks and poz < nev:\n",
    "#        maks = nev\n",
    "#        rez = 'neu: {}'.format(maks)\n",
    "#        seznam.append(rez)\n",
    "#        return rez\n",
    "#    if poz > maks:\n",
    "#        maks = poz\n",
    "#        rez = 'pos: {}'.format(maks)\n",
    "#        seznam.append(rez)\n",
    "#        return rez\n",
    "    \n",
    "#    rez = 'neg: {}'.format(maks)\n",
    "#    seznam.append(rez)\n",
    "#    return rez\n",
    "\n",
    "\n",
    "def steviloSentimenta(compoundSeznam):\n",
    "    stevecNeg = 0\n",
    "    stevecPoz = 0\n",
    "    i = 0\n",
    "    while i < len(seznamCompound):\n",
    "        if seznamCompound[i] <= 0:\n",
    "            stevecNeg = stevecNeg + 1\n",
    "        else:\n",
    "            stevecPoz = stevecPoz + 1\n",
    "        i = i + 1\n",
    "    \n",
    "    return stevecNeg, stevecPoz\n",
    "\n",
    "#rez1 = maksimalno(ss1)\n",
    "#rez2 = maksimalno(ss2)\n",
    "#rez3 = maksimalno(ss3)\n",
    "#rez4 = maksimalno(ss4)\n",
    "#rez5 = maksimalno(ss5)\n",
    "print(ss1,ss2,ss3,ss4,ss5)\n",
    "comp1 = ss1['compound']\n",
    "comp2 = ss2['compound']\n",
    "comp3 = ss3['compound']\n",
    "comp4 = ss4['compound']\n",
    "comp5 = ss5['compound']\n",
    "seznamCompound = [comp1, comp2, comp3, comp4, comp5]\n",
    "steviloNegPoz = steviloSentimenta(seznamCompound)\n",
    "neg, poz = steviloNegPoz\n",
    "\n",
    "#GRAF\n",
    "f, ax = plt.subplots(figsize=(6,6))\n",
    "left = [1, 1.5]\n",
    "visinaStolpcev = [neg, poz] \n",
    "#oznake za x os\n",
    "oznake = ['Negativen', 'Pozitiven']\n",
    "# risanje grafa\n",
    "plt.bar(left, visinaStolpcev, tick_label = oznake,\n",
    "        width = 0.3, color='darkblue')\n",
    "#ime x osi\n",
    "plt.xlabel('Sentiment')\n",
    "#ime y osi\n",
    "plt.ylabel('Število besedil z določenim sentimentom')\n",
    "#naslov\n",
    "plt.title('Sentimentalna analiza kvalitativnih podatkov', fontsize=11)\n",
    "f.savefig('compound1.png', dpi=300, bbox_inches='tight')\n",
    "plt.show()\n",
    "\n",
    "\n"
   ]
  },
  {
   "cell_type": "code",
   "execution_count": null,
   "id": "ba192eca",
   "metadata": {},
   "outputs": [],
   "source": []
  }
 ],
 "metadata": {
  "kernelspec": {
   "display_name": "Python 3 (ipykernel)",
   "language": "python",
   "name": "python3"
  },
  "language_info": {
   "codemirror_mode": {
    "name": "ipython",
    "version": 3
   },
   "file_extension": ".py",
   "mimetype": "text/x-python",
   "name": "python",
   "nbconvert_exporter": "python",
   "pygments_lexer": "ipython3",
   "version": "3.10.2"
  }
 },
 "nbformat": 4,
 "nbformat_minor": 5
}
