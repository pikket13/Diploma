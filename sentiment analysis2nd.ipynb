{
 "cells": [
  {
   "cell_type": "code",
   "execution_count": 1,
   "id": "578f2f81",
   "metadata": {},
   "outputs": [
    {
     "name": "stdout",
     "output_type": "stream",
     "text": [
      "Requirement already satisfied: nltk in /usr/local/Cellar/ipython/8.2.0/libexec/lib/python3.10/site-packages (3.7)\n",
      "Requirement already satisfied: joblib in /usr/local/Cellar/ipython/8.2.0/libexec/lib/python3.10/site-packages (from nltk) (1.1.0)\n",
      "Requirement already satisfied: tqdm in /usr/local/Cellar/ipython/8.2.0/libexec/lib/python3.10/site-packages (from nltk) (4.63.1)\n",
      "Requirement already satisfied: click in /usr/local/Cellar/ipython/8.2.0/libexec/lib/python3.10/site-packages (from nltk) (8.1.0)\n",
      "Requirement already satisfied: regex>=2021.8.3 in /usr/local/Cellar/ipython/8.2.0/libexec/lib/python3.10/site-packages (from nltk) (2022.3.15)\n",
      "\u001b[33mWARNING: You are using pip version 22.0.2; however, version 22.0.4 is available.\n",
      "You should consider upgrading via the '/usr/local/Cellar/ipython/8.2.0/libexec/bin/python3.10 -m pip install --upgrade pip' command.\u001b[0m\u001b[33m\n",
      "\u001b[0mNote: you may need to restart the kernel to use updated packages.\n"
     ]
    }
   ],
   "source": [
    "pip install nltk"
   ]
  },
  {
   "cell_type": "code",
   "execution_count": 2,
   "id": "64c51ad5",
   "metadata": {},
   "outputs": [
    {
     "name": "stdout",
     "output_type": "stream",
     "text": [
      "Requirement already satisfied: matplotlib in /usr/local/Cellar/ipython/8.2.0/libexec/lib/python3.10/site-packages (3.5.1)\n",
      "Requirement already satisfied: kiwisolver>=1.0.1 in /usr/local/Cellar/ipython/8.2.0/libexec/lib/python3.10/site-packages (from matplotlib) (1.4.2)\n",
      "Requirement already satisfied: fonttools>=4.22.0 in /usr/local/Cellar/ipython/8.2.0/libexec/lib/python3.10/site-packages (from matplotlib) (4.31.2)\n",
      "Requirement already satisfied: pillow>=6.2.0 in /usr/local/Cellar/ipython/8.2.0/libexec/lib/python3.10/site-packages (from matplotlib) (9.0.1)\n",
      "Requirement already satisfied: python-dateutil>=2.7 in /usr/local/Cellar/ipython/8.2.0/libexec/lib/python3.10/site-packages (from matplotlib) (2.8.2)\n",
      "Requirement already satisfied: packaging>=20.0 in /usr/local/Cellar/ipython/8.2.0/libexec/lib/python3.10/site-packages (from matplotlib) (21.3)\n",
      "Requirement already satisfied: numpy>=1.17 in /usr/local/Cellar/ipython/8.2.0/libexec/lib/python3.10/site-packages (from matplotlib) (1.22.3)\n",
      "Requirement already satisfied: pyparsing>=2.2.1 in /usr/local/Cellar/ipython/8.2.0/libexec/lib/python3.10/site-packages (from matplotlib) (3.0.7)\n",
      "Requirement already satisfied: cycler>=0.10 in /usr/local/Cellar/ipython/8.2.0/libexec/lib/python3.10/site-packages (from matplotlib) (0.11.0)\n",
      "Requirement already satisfied: six>=1.5 in /usr/local/Cellar/six/1.16.0_2/lib/python3.10/site-packages (from python-dateutil>=2.7->matplotlib) (1.16.0)\n",
      "\u001b[33mWARNING: You are using pip version 22.0.2; however, version 22.0.4 is available.\n",
      "You should consider upgrading via the '/usr/local/Cellar/ipython/8.2.0/libexec/bin/python3.10 -m pip install --upgrade pip' command.\u001b[0m\u001b[33m\n",
      "\u001b[0mNote: you may need to restart the kernel to use updated packages.\n"
     ]
    }
   ],
   "source": [
    "pip install matplotlib"
   ]
  },
  {
   "cell_type": "code",
   "execution_count": 3,
   "id": "aa14f5af",
   "metadata": {},
   "outputs": [
    {
     "name": "stdout",
     "output_type": "stream",
     "text": [
      "Requirement already satisfied: numpy in /usr/local/Cellar/ipython/8.2.0/libexec/lib/python3.10/site-packages (1.22.3)\n",
      "\u001b[33mWARNING: You are using pip version 22.0.2; however, version 22.0.4 is available.\n",
      "You should consider upgrading via the '/usr/local/Cellar/ipython/8.2.0/libexec/bin/python3.10 -m pip install --upgrade pip' command.\u001b[0m\u001b[33m\n",
      "\u001b[0mNote: you may need to restart the kernel to use updated packages.\n"
     ]
    }
   ],
   "source": [
    "pip install numpy"
   ]
  },
  {
   "cell_type": "code",
   "execution_count": 3,
   "id": "c1d7a865",
   "metadata": {},
   "outputs": [
    {
     "name": "stdout",
     "output_type": "stream",
     "text": [
      "Collecting pandas\n",
      "  Downloading pandas-1.4.1-cp310-cp310-macosx_10_9_x86_64.whl (11.5 MB)\n",
      "\u001b[2K     \u001b[90m━━━━━━━━━━━━━━━━━━━━━━━━━━━━━━━━━━━━━━━━\u001b[0m \u001b[32m11.5/11.5 MB\u001b[0m \u001b[31m2.9 MB/s\u001b[0m eta \u001b[36m0:00:00\u001b[0m00:01\u001b[0m00:01\u001b[0m\n",
      "\u001b[?25hRequirement already satisfied: python-dateutil>=2.8.1 in /usr/local/Cellar/ipython/8.2.0/libexec/lib/python3.10/site-packages (from pandas) (2.8.2)\n",
      "Requirement already satisfied: numpy>=1.21.0 in /usr/local/Cellar/ipython/8.2.0/libexec/lib/python3.10/site-packages (from pandas) (1.22.3)\n",
      "Collecting pytz>=2020.1\n",
      "  Downloading pytz-2022.1-py2.py3-none-any.whl (503 kB)\n",
      "\u001b[2K     \u001b[90m━━━━━━━━━━━━━━━━━━━━━━━━━━━━━━━━━━━━━━━\u001b[0m \u001b[32m503.5/503.5 KB\u001b[0m \u001b[31m2.6 MB/s\u001b[0m eta \u001b[36m0:00:00\u001b[0m00:01\u001b[0m00:01\u001b[0m\n",
      "\u001b[?25hRequirement already satisfied: six>=1.5 in /usr/local/Cellar/six/1.16.0_2/lib/python3.10/site-packages (from python-dateutil>=2.8.1->pandas) (1.16.0)\n",
      "Installing collected packages: pytz, pandas\n",
      "Successfully installed pandas-1.4.1 pytz-2022.1\n",
      "\u001b[33mWARNING: You are using pip version 22.0.2; however, version 22.0.4 is available.\n",
      "You should consider upgrading via the '/usr/local/Cellar/ipython/8.2.0/libexec/bin/python3.10 -m pip install --upgrade pip' command.\u001b[0m\u001b[33m\n",
      "\u001b[0mNote: you may need to restart the kernel to use updated packages.\n"
     ]
    }
   ],
   "source": [
    "pip install pandas"
   ]
  },
  {
   "cell_type": "code",
   "execution_count": 4,
   "id": "d839418f",
   "metadata": {},
   "outputs": [
    {
     "name": "stdout",
     "output_type": "stream",
     "text": [
      "Collecting scikit-learn\n",
      "  Downloading scikit_learn-1.0.2-cp310-cp310-macosx_10_13_x86_64.whl (8.0 MB)\n",
      "\u001b[2K     \u001b[90m━━━━━━━━━━━━━━━━━━━━━━━━━━━━━━━━━━━━━━━━\u001b[0m \u001b[32m8.0/8.0 MB\u001b[0m \u001b[31m2.9 MB/s\u001b[0m eta \u001b[36m0:00:00\u001b[0m00:01\u001b[0m00:01\u001b[0m\n",
      "\u001b[?25hCollecting scipy>=1.1.0\n",
      "  Downloading scipy-1.8.0-cp310-cp310-macosx_12_0_universal2.macosx_10_9_x86_64.whl (55.6 MB)\n",
      "\u001b[2K     \u001b[90m━━━━━━━━━━━━━━━━━━━━━━━━━━━━━━━━━━━━━━━━\u001b[0m \u001b[32m55.6/55.6 MB\u001b[0m \u001b[31m2.8 MB/s\u001b[0m eta \u001b[36m0:00:00\u001b[0m00:01\u001b[0m00:01\u001b[0m\n",
      "\u001b[?25hRequirement already satisfied: joblib>=0.11 in /usr/local/Cellar/ipython/8.2.0/libexec/lib/python3.10/site-packages (from scikit-learn) (1.1.0)\n",
      "Collecting threadpoolctl>=2.0.0\n",
      "  Downloading threadpoolctl-3.1.0-py3-none-any.whl (14 kB)\n",
      "Requirement already satisfied: numpy>=1.14.6 in /usr/local/Cellar/ipython/8.2.0/libexec/lib/python3.10/site-packages (from scikit-learn) (1.22.3)\n",
      "Installing collected packages: threadpoolctl, scipy, scikit-learn\n",
      "Successfully installed scikit-learn-1.0.2 scipy-1.8.0 threadpoolctl-3.1.0\n",
      "\u001b[33mWARNING: You are using pip version 22.0.2; however, version 22.0.4 is available.\n",
      "You should consider upgrading via the '/usr/local/Cellar/ipython/8.2.0/libexec/bin/python3.10 -m pip install --upgrade pip' command.\u001b[0m\u001b[33m\n",
      "\u001b[0mNote: you may need to restart the kernel to use updated packages.\n"
     ]
    }
   ],
   "source": [
    "pip install scikit-learn"
   ]
  },
  {
   "cell_type": "code",
   "execution_count": 2,
   "id": "013f8199",
   "metadata": {},
   "outputs": [],
   "source": [
    "import pandas as pd"
   ]
  },
  {
   "cell_type": "code",
   "execution_count": 3,
   "id": "e93393b5",
   "metadata": {},
   "outputs": [],
   "source": [
    "import numpy as np"
   ]
  },
  {
   "cell_type": "code",
   "execution_count": 4,
   "id": "5cd851cf",
   "metadata": {},
   "outputs": [
    {
     "name": "stderr",
     "output_type": "stream",
     "text": [
      "[nltk_data] Downloading package vader_lexicon to\n",
      "[nltk_data]     /Users/katarinapikec/nltk_data...\n",
      "[nltk_data]   Package vader_lexicon is already up-to-date!\n"
     ]
    },
    {
     "data": {
      "text/plain": [
       "True"
      ]
     },
     "execution_count": 4,
     "metadata": {},
     "output_type": "execute_result"
    }
   ],
   "source": [
    "import nltk\n",
    "nltk.download('vader_lexicon')"
   ]
  },
  {
   "cell_type": "code",
   "execution_count": 5,
   "id": "c2bc4198",
   "metadata": {},
   "outputs": [],
   "source": [
    "from nltk.sentiment.vader import SentimentIntensityAnalyzer\n",
    "from matplotlib import pyplot as plt"
   ]
  },
  {
   "cell_type": "code",
   "execution_count": 6,
   "id": "184ec2f1",
   "metadata": {},
   "outputs": [],
   "source": [
    "vader = SentimentIntensityAnalyzer()"
   ]
  },
  {
   "cell_type": "code",
   "execution_count": 7,
   "id": "bfd52b76",
   "metadata": {},
   "outputs": [
    {
     "name": "stdout",
     "output_type": "stream",
     "text": [
      "{'neg': 0.0, 'neu': 0.748, 'pos': 0.252, 'compound': 0.7748} {'neg': 0.0, 'neu': 0.49, 'pos': 0.51, 'compound': 0.9259} {'neg': 0.0, 'neu': 0.495, 'pos': 0.505, 'compound': 0.9545} {'neg': 0.0, 'neu': 0.503, 'pos': 0.497, 'compound': 0.9569} {'neg': 0.0, 'neu': 0.629, 'pos': 0.371, 'compound': 0.8918}\n"
     ]
    },
    {
     "data": {
      "image/png": "[encoded data removed]",
      "text/plain": [
       "<Figure size 432x288 with 1 Axes>"
      ]
     },
     "metadata": {
      "needs_background": "light"
     },
     "output_type": "display_data"
    }
   ],
   "source": [
    "def maksimalno(besedilo_tocke):\n",
    "    neg = besedilo_tocke['neg']\n",
    "    nev = besedilo_tocke['neu']\n",
    "    poz = besedilo_tocke['pos']\n",
    "    \n",
    "    maks = neg\n",
    "    \n",
    "    if nev > maks and poz < nev:\n",
    "        maks = nev\n",
    "        rez = 'neu: {}'.format(maks)\n",
    "        seznam.append(rez)\n",
    "        return rez\n",
    "    if poz > maks:\n",
    "        maks = poz\n",
    "        rez = 'pos: {}'.format(maks)\n",
    "        seznam.append(rez)\n",
    "        return rez\n",
    "    \n",
    "    rez = 'neg: {}'.format(maks)\n",
    "    seznam.append(rez)\n",
    "    return rez\n",
    "\n",
    "\n",
    "def steviloSentimenta(compoundSeznam):\n",
    "    stevecNeg = 0\n",
    "    stevecPoz = 0\n",
    "    i = 0\n",
    "    while i < len(seznamCompound):\n",
    "        if seznamCompound[i] <= 0:\n",
    "            stevecNeg = stevecNeg + 1\n",
    "        else:\n",
    "            stevecPoz = stevecPoz + 1\n",
    "        i = i + 1\n",
    "    \n",
    "    return stevecNeg, stevecPoz\n",
    "\n",
    "labels = ['negative', 'neutral', 'positive']\n",
    "s1 = 'It was a lot better than before. I LOVE IT. Everything makes sense. It is VERY GOOD, but I think that days in the map are NOT obvious ENOUGH.'\n",
    "s2 = 'It was a lot better than before. I LOVE IT. Everything makes sense. It is VERY GOOD.'\n",
    "s3 = 'Now it is much better and nicer. I LIKE IT. I LIKE the map, it is very clear and I saw that is interactive which I ESPECIALLY LIKE.'\n",
    "s4 = 'I LIKE that now the app is more clear. I felt like I was navigated through the website and I LOVE that. I ENJOY the experience VERY MUCH.'\n",
    "s5 = 'I already love the app and now I again enjoy it. There are just enough information and I LIKE the NAVIGATION through the website.'\n",
    "\n",
    "ss1 = vader.polarity_scores(s1)\n",
    "ss2 = vader.polarity_scores(s2)\n",
    "ss3 = vader.polarity_scores(s3)\n",
    "ss4 = vader.polarity_scores(s4)\n",
    "ss5  = vader.polarity_scores(s5)\n",
    "#rez1 = maksimalno(ss1)\n",
    "#rez2 = maksimalno(ss2)\n",
    "#rez3 = maksimalno(ss3)\n",
    "#rez4 = maksimalno(ss4)\n",
    "#rez5 = maksimalno(ss5)\n",
    "print(ss1,ss2,ss3,ss4,ss5)\n",
    "comp1 = ss1['compound']\n",
    "comp2 = ss2['compound']\n",
    "comp3 = ss3['compound']\n",
    "comp4 = ss4['compound']\n",
    "comp5 = ss5['compound']\n",
    "seznamCompound = [comp1, comp2, comp3, comp4, comp5]\n",
    "steviloNegPoz = steviloSentimenta(seznamCompound)\n",
    "neg, poz = steviloNegPoz\n",
    "\n",
    "#GRAF\n",
    "left = [1, 2]\n",
    "visinaStolpcev = [neg, poz] \n",
    "#oznake za x os\n",
    "oznake = ['negativen', 'pozitiven']\n",
    "# risanje grafa\n",
    "plt.bar(left, visinaStolpcev, tick_label = oznake,\n",
    "        width = 0.8, color='darkblue')\n",
    "#ime x osi\n",
    "plt.xlabel('sentiment')\n",
    "#ime y osi\n",
    "plt.ylabel('število besedil z določenim sentimentom')\n",
    "#naslov\n",
    "plt.title('Sentimentalna analiza kvalitativnih podatkov')\n",
    "plt.savefig('compound1.png', dpi=300, bbox_inches='tight')\n",
    "plt.show()\n",
    "\n",
    "\n"
   ]
  },
  {
   "cell_type": "code",
   "execution_count": 9,
   "id": "b4bfbfce",
   "metadata": {},
   "outputs": [
    {
     "data": {
      "image/png": "[encoded data removed]",
      "text/plain": [
       "<Figure size 360x360 with 1 Axes>"
      ]
     },
     "metadata": {
      "needs_background": "light"
     },
     "output_type": "display_data"
    }
   ],
   "source": [
    "#slovar za vsakega udeleženca\n",
    "data_dict = {\"Besedila\": [\"Besedilo1\", \"Besedilo2\", \"Besedilo3\", \"Besedilo4\",  \"Besedilo5\"],\n",
    "            'negativno': [ss1['neg'],ss2['neg'],ss3['neg'],ss4['neg'],ss5['neg']],\n",
    "            'nevtralno': [ss1['neu'],ss2['neu'],ss3['neu'],ss4['neu'],ss5['neu']],\n",
    "            'pozitivno': [ss1['pos'],ss2['pos'],ss3['pos'],ss4['pos'],ss5['pos']]}#convert that into a dataframe\n",
    "data_df = pd.DataFrame(data_dict)#show the dictionary\n",
    "data_df\n",
    "\n",
    "#create the base axis\n",
    "fig, ax = plt.subplots(1,1, figsize = (5,5))#set the labels\n",
    "#and the x positions\n",
    "label = data_df[\"Besedila\"]\n",
    "x = np.arange(len(label))#set the width of the bars\n",
    "width = 0.3#create the first bar -1 width\n",
    "rect1 = ax.bar(x - width,\n",
    "              data_df['negativno'],\n",
    "              width = width, \n",
    "               label = 'negativno', color='darkblue')\n",
    "rect2 = ax.bar(x,\n",
    "              data_df['nevtralno'],\n",
    "              width = width,\n",
    "              label = 'nevtralno', color='lightblue')#create the third bar plus 1 width\n",
    "rects2 = ax.bar(x + width,\n",
    "               data_df['pozitivno'],\n",
    "               width = width,\n",
    "               label = 'pozitivno', color='blue')#add the labels to the axis\n",
    "ax.set_ylabel(\"Točkovanje treh polarnosti v besedilu\")\n",
    "ax.set_xlabel(\"Udeleženci\")\n",
    "ax.set_title(\"Sentiment zaznan na posameznem besedilu\")#set the ticks\n",
    "#using the labels\n",
    "ax.set_xticks(x)\n",
    "ax.set_xticklabels(label)#add the legend\n",
    "ax.legend(title = \"Polarnosti sentimenta\",\n",
    "         bbox_to_anchor = (1.0, 1.0))#adjust the tick paramaters\n",
    "ax.tick_params(axis = \"x\",\n",
    "              which = \"both\",\n",
    "              labelrotation = 90)\n",
    "ax.tick_params(axis = \"y\",\n",
    "              which = \"both\")\n",
    "plt.savefig('polarity1.png', dpi=300, bbox_inches='tight')"
   ]
  },
  {
   "cell_type": "code",
   "execution_count": null,
   "id": "b8765d63",
   "metadata": {},
   "outputs": [],
   "source": []
  }
 ],
 "metadata": {
  "kernelspec": {
   "display_name": "Python 3 (ipykernel)",
   "language": "python",
   "name": "python3"
  },
  "language_info": {
   "codemirror_mode": {
    "name": "ipython",
    "version": 3
   },
   "file_extension": ".py",
   "mimetype": "text/x-python",
   "name": "python",
   "nbconvert_exporter": "python",
   "pygments_lexer": "ipython3",
   "version": "3.10.2"
  }
 },
 "nbformat": 4,
 "nbformat_minor": 5
}
